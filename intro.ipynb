{
  "metadata": {
    "language_info": {
      "codemirror_mode": {
        "name": "python",
        "version": 3
      },
      "file_extension": ".py",
      "mimetype": "text/x-python",
      "name": "python",
      "nbconvert_exporter": "python",
      "pygments_lexer": "ipython3",
      "version": "3.8"
    },
    "kernelspec": {
      "name": "python",
      "display_name": "Python (Pyodide)",
      "language": "python"
    }
  },
  "nbformat_minor": 4,
  "nbformat": 4,
  "cells": [
    {
      "cell_type": "code",
      "source": "# Declare a variable with string value\nmessage = \"Hello asif\"\n# Declare a variable with number value\nid = 212031005\n# manke message variable value all capitalized\nprint(message.upper())\n# make message variable value all lower\nprint(message.lower())\n# string formating\nname = 'Abdur Rahamana'\n# Add strign fomate\ngretting = f\"Hello {name}\"\nprint(gretting)\nfirstname = \"Abdur\"\nlastname = \"rahaman\"\nname = firstname + ' lol ' + lastname\nprint(name)\n# you can run any expression inside {}\nname = f\"{firstname.upper()} is his firstname and {lastname} is his last name.\"\nprint(name)\nprint(f\"\\t {name}\")\nprint(f\"\\n\\n {name}\")",
      "metadata": {
        "trusted": true
      },
      "execution_count": 18,
      "outputs": [
        {
          "name": "stdout",
          "text": "HELLO ASIF\nhello asif\nHello Abdur Rahamana\nAbdur lol rahaman\nABDUR is his firstname and rahaman is his last name.\n\t ABDUR is his firstname and rahaman is his last name.\n\n\n ABDUR is his firstname and rahaman is his last name.\n",
          "output_type": "stream"
        }
      ]
    },
    {
      "cell_type": "code",
      "source": "",
      "metadata": {},
      "execution_count": null,
      "outputs": []
    }
  ]
}